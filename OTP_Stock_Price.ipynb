{
  "nbformat": 4,
  "nbformat_minor": 0,
  "metadata": {
    "colab": {
      "name": "OTP_Stock_Price.ipynb",
      "provenance": [],
      "collapsed_sections": [],
      "include_colab_link": true
    },
    "kernelspec": {
      "name": "python3",
      "display_name": "Python 3"
    },
    "language_info": {
      "name": "python"
    }
  },
  "cells": [
    {
      "cell_type": "markdown",
      "metadata": {
        "id": "view-in-github",
        "colab_type": "text"
      },
      "source": [
        "<a href=\"https://colab.research.google.com/github/prievarag/OTP-Stock-Price-forecast-with-LSTM/blob/main/OTP_Stock_Price.ipynb\" target=\"_parent\"><img src=\"https://colab.research.google.com/assets/colab-badge.svg\" alt=\"Open In Colab\"/></a>"
      ]
    },
    {
      "cell_type": "code",
      "execution_count": null,
      "metadata": {
        "id": "sELuIGcjj3zY"
      },
      "outputs": [],
      "source": [
        "#Importing the libraries\n",
        "import numpy as np\n",
        "import matplotlib.pyplot as plt\n",
        "import pandas as pd"
      ]
    },
    {
      "cell_type": "code",
      "source": [
        "#Importing the training set\n",
        "#Historical data downloaded from https://bse.hu/Prices-and-Markets/Data-download\n",
        "dataset_train = pd.read_excel('OTP_train.xlsx')\n",
        "training_set = dataset_train.iloc[:, 1:2].values"
      ],
      "metadata": {
        "id": "e6GoISOylOP8"
      },
      "execution_count": null,
      "outputs": []
    },
    {
      "cell_type": "code",
      "source": [
        "#check the first 5 value in the array\n",
        "training_set[0:5]"
      ],
      "metadata": {
        "colab": {
          "base_uri": "https://localhost:8080/"
        },
        "id": "aktFBvobljlD",
        "outputId": "45488f99-4d73-417c-ad5f-8b975babdd73"
      },
      "execution_count": null,
      "outputs": [
        {
          "output_type": "execute_result",
          "data": {
            "text/plain": [
              "array([[10800],\n",
              "       [10840],\n",
              "       [10960],\n",
              "       [10940],\n",
              "       [10970]])"
            ]
          },
          "metadata": {},
          "execution_count": 26
        }
      ]
    },
    {
      "cell_type": "code",
      "source": [
        "#Feature scaling\n",
        "from sklearn.preprocessing import MinMaxScaler\n",
        "sc = MinMaxScaler(feature_range = (0, 1))\n",
        "training_set_scaled = sc.fit_transform(training_set)"
      ],
      "metadata": {
        "id": "j3iTmlhQmI9j"
      },
      "execution_count": null,
      "outputs": []
    },
    {
      "cell_type": "code",
      "source": [
        "#training_set_scaled"
      ],
      "metadata": {
        "id": "JB20nOPmnZBS"
      },
      "execution_count": null,
      "outputs": []
    },
    {
      "cell_type": "code",
      "source": [
        "#Creating a data structure with 60 time steps and 1 output\n",
        "X_train = []\n",
        "y_train = []\n",
        "for i in range(60, 993):\n",
        "    X_train.append(training_set_scaled[i-60:i, 0])\n",
        "    y_train.append(training_set_scaled[i, 0])\n",
        "X_train, y_train = np.array(X_train), np.array(y_train)"
      ],
      "metadata": {
        "id": "Sfk3y91Km8-b"
      },
      "execution_count": null,
      "outputs": []
    },
    {
      "cell_type": "code",
      "source": [
        "#Reshaping\n",
        "X_train = np.reshape(X_train, (X_train.shape[0], X_train.shape[1], 1))"
      ],
      "metadata": {
        "id": "TGw7btLfnSHa"
      },
      "execution_count": null,
      "outputs": []
    },
    {
      "cell_type": "code",
      "source": [
        "#Building and train the ANN\n",
        "#Importing the libraries\n",
        "from keras.models import Sequential\n",
        "from keras.layers import Dense\n",
        "from keras.layers import LSTM\n",
        "from keras.layers import Dropout"
      ],
      "metadata": {
        "id": "v5rSAPngnVa6"
      },
      "execution_count": null,
      "outputs": []
    },
    {
      "cell_type": "code",
      "source": [
        "#Initializing the RNN\n",
        "regressor = Sequential()"
      ],
      "metadata": {
        "id": "DtDHZiK_nq2K"
      },
      "execution_count": null,
      "outputs": []
    },
    {
      "cell_type": "code",
      "source": [
        "#Adding the first LSTM layer and some Dropout regularisation\n",
        "regressor.add(LSTM(units = 50, return_sequences = True, input_shape = (X_train.shape[1], 1)))\n",
        "regressor.add(Dropout(0.2))\n",
        "\n",
        "regressor.add(LSTM(units = 50, return_sequences= True, input_shape = (X_train.shape[1],1)))\n",
        "regressor.add(Dropout(0.2))"
      ],
      "metadata": {
        "id": "awOsi59gnzVq"
      },
      "execution_count": null,
      "outputs": []
    },
    {
      "cell_type": "code",
      "source": [
        "#Adding a second LSTM layer and some Dropout regularisation\n",
        "regressor.add(LSTM(units = 50, return_sequences = True))\n",
        "regressor.add(Dropout(0.2))"
      ],
      "metadata": {
        "id": "tRnefwUln8RD"
      },
      "execution_count": null,
      "outputs": []
    },
    {
      "cell_type": "code",
      "source": [
        "#Adding a third LSTM layer and some Dropout regularisation\n",
        "regressor.add(LSTM(units = 50, return_sequences = True))\n",
        "regressor.add(Dropout(0.2))"
      ],
      "metadata": {
        "id": "_l7FzLkxoCCa"
      },
      "execution_count": null,
      "outputs": []
    },
    {
      "cell_type": "code",
      "source": [
        "#Adding a fourth LSTM layer and some Dropout regularisation\n",
        "regressor.add(LSTM(units = 50))\n",
        "regressor.add(Dropout(0.2))"
      ],
      "metadata": {
        "id": "FUj600VUoIfS"
      },
      "execution_count": null,
      "outputs": []
    },
    {
      "cell_type": "code",
      "source": [
        "#Adding the output layer\n",
        "regressor.add(Dense(units = 1))"
      ],
      "metadata": {
        "id": "yJd2HoAYqecc"
      },
      "execution_count": null,
      "outputs": []
    },
    {
      "cell_type": "code",
      "source": [
        "#Compiling the RNN\n",
        "regressor.compile(optimizer = 'adam', loss = 'mean_squared_error')"
      ],
      "metadata": {
        "id": "yeRvuY9cqpmc"
      },
      "execution_count": null,
      "outputs": []
    },
    {
      "cell_type": "code",
      "source": [
        "#Fitting the RNN to the Training Set\n",
        "regressor.fit(X_train, y_train, epochs = 100, batch_size = 32)"
      ],
      "metadata": {
        "colab": {
          "base_uri": "https://localhost:8080/"
        },
        "id": "YhoEOsV_qvQT",
        "outputId": "b1d9a171-3f20-43d0-a148-a0c9cea2204e"
      },
      "execution_count": null,
      "outputs": [
        {
          "output_type": "stream",
          "name": "stdout",
          "text": [
            "Epoch 1/100\n",
            "30/30 [==============================] - 15s 158ms/step - loss: 0.0571\n",
            "Epoch 2/100\n",
            "30/30 [==============================] - 5s 158ms/step - loss: 0.0131\n",
            "Epoch 3/100\n",
            "30/30 [==============================] - 5s 157ms/step - loss: 0.0109\n",
            "Epoch 4/100\n",
            "30/30 [==============================] - 5s 157ms/step - loss: 0.0087\n",
            "Epoch 5/100\n",
            "30/30 [==============================] - 5s 157ms/step - loss: 0.0082\n",
            "Epoch 6/100\n",
            "30/30 [==============================] - 5s 156ms/step - loss: 0.0064\n",
            "Epoch 7/100\n",
            "30/30 [==============================] - 5s 158ms/step - loss: 0.0069\n",
            "Epoch 8/100\n",
            "30/30 [==============================] - 5s 158ms/step - loss: 0.0064\n",
            "Epoch 9/100\n",
            "30/30 [==============================] - 5s 156ms/step - loss: 0.0071\n",
            "Epoch 10/100\n",
            "30/30 [==============================] - 5s 157ms/step - loss: 0.0055\n",
            "Epoch 11/100\n",
            "30/30 [==============================] - 5s 160ms/step - loss: 0.0057\n",
            "Epoch 12/100\n",
            "30/30 [==============================] - 5s 162ms/step - loss: 0.0059\n",
            "Epoch 13/100\n",
            "30/30 [==============================] - 5s 162ms/step - loss: 0.0055\n",
            "Epoch 14/100\n",
            "30/30 [==============================] - 5s 157ms/step - loss: 0.0052\n",
            "Epoch 15/100\n",
            "30/30 [==============================] - 5s 158ms/step - loss: 0.0051\n",
            "Epoch 16/100\n",
            "30/30 [==============================] - 5s 163ms/step - loss: 0.0051\n",
            "Epoch 17/100\n",
            "30/30 [==============================] - 5s 158ms/step - loss: 0.0059\n",
            "Epoch 18/100\n",
            "30/30 [==============================] - 5s 159ms/step - loss: 0.0065\n",
            "Epoch 19/100\n",
            "30/30 [==============================] - 5s 161ms/step - loss: 0.0046\n",
            "Epoch 20/100\n",
            "30/30 [==============================] - 5s 157ms/step - loss: 0.0050\n",
            "Epoch 21/100\n",
            "30/30 [==============================] - 5s 159ms/step - loss: 0.0047\n",
            "Epoch 22/100\n",
            "30/30 [==============================] - 5s 157ms/step - loss: 0.0041\n",
            "Epoch 23/100\n",
            "30/30 [==============================] - 5s 156ms/step - loss: 0.0043\n",
            "Epoch 24/100\n",
            "30/30 [==============================] - 5s 160ms/step - loss: 0.0045\n",
            "Epoch 25/100\n",
            "30/30 [==============================] - 5s 162ms/step - loss: 0.0041\n",
            "Epoch 26/100\n",
            "30/30 [==============================] - 5s 158ms/step - loss: 0.0043\n",
            "Epoch 27/100\n",
            "30/30 [==============================] - 5s 161ms/step - loss: 0.0048\n",
            "Epoch 28/100\n",
            "30/30 [==============================] - 5s 159ms/step - loss: 0.0044\n",
            "Epoch 29/100\n",
            "30/30 [==============================] - 5s 161ms/step - loss: 0.0039\n",
            "Epoch 30/100\n",
            "30/30 [==============================] - 5s 158ms/step - loss: 0.0048\n",
            "Epoch 31/100\n",
            "30/30 [==============================] - 5s 157ms/step - loss: 0.0038\n",
            "Epoch 32/100\n",
            "30/30 [==============================] - 5s 159ms/step - loss: 0.0038\n",
            "Epoch 33/100\n",
            "30/30 [==============================] - 5s 158ms/step - loss: 0.0041\n",
            "Epoch 34/100\n",
            "30/30 [==============================] - 5s 158ms/step - loss: 0.0036\n",
            "Epoch 35/100\n",
            "30/30 [==============================] - 5s 161ms/step - loss: 0.0036\n",
            "Epoch 36/100\n",
            "30/30 [==============================] - 5s 162ms/step - loss: 0.0040\n",
            "Epoch 37/100\n",
            "30/30 [==============================] - 5s 161ms/step - loss: 0.0034\n",
            "Epoch 38/100\n",
            "30/30 [==============================] - 5s 160ms/step - loss: 0.0035\n",
            "Epoch 39/100\n",
            "30/30 [==============================] - 5s 159ms/step - loss: 0.0038\n",
            "Epoch 40/100\n",
            "30/30 [==============================] - 5s 159ms/step - loss: 0.0031\n",
            "Epoch 41/100\n",
            "30/30 [==============================] - 5s 159ms/step - loss: 0.0031\n",
            "Epoch 42/100\n",
            "30/30 [==============================] - 5s 159ms/step - loss: 0.0034\n",
            "Epoch 43/100\n",
            "30/30 [==============================] - 5s 163ms/step - loss: 0.0033\n",
            "Epoch 44/100\n",
            "30/30 [==============================] - 5s 158ms/step - loss: 0.0030\n",
            "Epoch 45/100\n",
            "30/30 [==============================] - 5s 158ms/step - loss: 0.0036\n",
            "Epoch 46/100\n",
            "30/30 [==============================] - 5s 162ms/step - loss: 0.0031\n",
            "Epoch 47/100\n",
            "30/30 [==============================] - 5s 159ms/step - loss: 0.0032\n",
            "Epoch 48/100\n",
            "30/30 [==============================] - 5s 158ms/step - loss: 0.0028\n",
            "Epoch 49/100\n",
            "30/30 [==============================] - 5s 161ms/step - loss: 0.0031\n",
            "Epoch 50/100\n",
            "30/30 [==============================] - 5s 161ms/step - loss: 0.0029\n",
            "Epoch 51/100\n",
            "30/30 [==============================] - 5s 165ms/step - loss: 0.0029\n",
            "Epoch 52/100\n",
            "30/30 [==============================] - 5s 160ms/step - loss: 0.0032\n",
            "Epoch 53/100\n",
            "30/30 [==============================] - 5s 162ms/step - loss: 0.0031\n",
            "Epoch 54/100\n",
            "30/30 [==============================] - 5s 162ms/step - loss: 0.0028\n",
            "Epoch 55/100\n",
            "30/30 [==============================] - 5s 161ms/step - loss: 0.0027\n",
            "Epoch 56/100\n",
            "30/30 [==============================] - 5s 157ms/step - loss: 0.0029\n",
            "Epoch 57/100\n",
            "30/30 [==============================] - 5s 160ms/step - loss: 0.0026\n",
            "Epoch 58/100\n",
            "30/30 [==============================] - 5s 161ms/step - loss: 0.0026\n",
            "Epoch 59/100\n",
            "30/30 [==============================] - 5s 161ms/step - loss: 0.0025\n",
            "Epoch 60/100\n",
            "30/30 [==============================] - 5s 158ms/step - loss: 0.0025\n",
            "Epoch 61/100\n",
            "30/30 [==============================] - 5s 159ms/step - loss: 0.0026\n",
            "Epoch 62/100\n",
            "30/30 [==============================] - 5s 163ms/step - loss: 0.0029\n",
            "Epoch 63/100\n",
            "30/30 [==============================] - 5s 162ms/step - loss: 0.0026\n",
            "Epoch 64/100\n",
            "30/30 [==============================] - 5s 158ms/step - loss: 0.0024\n",
            "Epoch 65/100\n",
            "30/30 [==============================] - 5s 159ms/step - loss: 0.0024\n",
            "Epoch 66/100\n",
            "30/30 [==============================] - 5s 164ms/step - loss: 0.0028\n",
            "Epoch 67/100\n",
            "30/30 [==============================] - 5s 162ms/step - loss: 0.0028\n",
            "Epoch 68/100\n",
            "30/30 [==============================] - 5s 161ms/step - loss: 0.0023\n",
            "Epoch 69/100\n",
            "30/30 [==============================] - 5s 163ms/step - loss: 0.0026\n",
            "Epoch 70/100\n",
            "30/30 [==============================] - 5s 161ms/step - loss: 0.0026\n",
            "Epoch 71/100\n",
            "30/30 [==============================] - 5s 159ms/step - loss: 0.0026\n",
            "Epoch 72/100\n",
            "30/30 [==============================] - 5s 161ms/step - loss: 0.0027\n",
            "Epoch 73/100\n",
            "30/30 [==============================] - 5s 163ms/step - loss: 0.0022\n",
            "Epoch 74/100\n",
            "30/30 [==============================] - 5s 166ms/step - loss: 0.0024\n",
            "Epoch 75/100\n",
            "30/30 [==============================] - 5s 168ms/step - loss: 0.0022\n",
            "Epoch 76/100\n",
            "30/30 [==============================] - 5s 171ms/step - loss: 0.0020\n",
            "Epoch 77/100\n",
            "30/30 [==============================] - 5s 162ms/step - loss: 0.0021\n",
            "Epoch 78/100\n",
            "30/30 [==============================] - 5s 169ms/step - loss: 0.0023\n",
            "Epoch 79/100\n",
            "30/30 [==============================] - 5s 168ms/step - loss: 0.0021\n",
            "Epoch 80/100\n",
            "30/30 [==============================] - 5s 173ms/step - loss: 0.0022\n",
            "Epoch 81/100\n",
            "30/30 [==============================] - 5s 168ms/step - loss: 0.0020\n",
            "Epoch 82/100\n",
            "30/30 [==============================] - 5s 164ms/step - loss: 0.0021\n",
            "Epoch 83/100\n",
            "30/30 [==============================] - 5s 161ms/step - loss: 0.0024\n",
            "Epoch 84/100\n",
            "30/30 [==============================] - 5s 164ms/step - loss: 0.0018\n",
            "Epoch 85/100\n",
            "30/30 [==============================] - 5s 163ms/step - loss: 0.0020\n",
            "Epoch 86/100\n",
            "30/30 [==============================] - 5s 167ms/step - loss: 0.0022\n",
            "Epoch 87/100\n",
            "30/30 [==============================] - 5s 169ms/step - loss: 0.0019\n",
            "Epoch 88/100\n",
            "30/30 [==============================] - 5s 165ms/step - loss: 0.0020\n",
            "Epoch 89/100\n",
            "30/30 [==============================] - 5s 163ms/step - loss: 0.0019\n",
            "Epoch 90/100\n",
            "30/30 [==============================] - 5s 163ms/step - loss: 0.0020\n",
            "Epoch 91/100\n",
            "30/30 [==============================] - 5s 165ms/step - loss: 0.0019\n",
            "Epoch 92/100\n",
            "30/30 [==============================] - 5s 166ms/step - loss: 0.0022\n",
            "Epoch 93/100\n",
            "30/30 [==============================] - 5s 162ms/step - loss: 0.0019\n",
            "Epoch 94/100\n",
            "30/30 [==============================] - 5s 163ms/step - loss: 0.0018\n",
            "Epoch 95/100\n",
            "30/30 [==============================] - 5s 162ms/step - loss: 0.0016\n",
            "Epoch 96/100\n",
            "30/30 [==============================] - 5s 164ms/step - loss: 0.0017\n",
            "Epoch 97/100\n",
            "30/30 [==============================] - 5s 165ms/step - loss: 0.0021\n",
            "Epoch 98/100\n",
            "30/30 [==============================] - 5s 162ms/step - loss: 0.0020\n",
            "Epoch 99/100\n",
            "30/30 [==============================] - 5s 165ms/step - loss: 0.0018\n",
            "Epoch 100/100\n",
            "30/30 [==============================] - 5s 166ms/step - loss: 0.0019\n"
          ]
        },
        {
          "output_type": "execute_result",
          "data": {
            "text/plain": [
              "<keras.callbacks.History at 0x7fc8de64fe90>"
            ]
          },
          "metadata": {},
          "execution_count": 39
        }
      ]
    },
    {
      "cell_type": "code",
      "source": [
        "#Making predictions and visualizing the results\n",
        "dataset_test = pd.read_excel('OTP_test.xlsx')\n",
        "real_stock_price = dataset_test.iloc[:, 1:2].values"
      ],
      "metadata": {
        "id": "HSKC1q-m80Ju"
      },
      "execution_count": null,
      "outputs": []
    },
    {
      "cell_type": "code",
      "source": [
        "#Getting the predicted stock price for 2022\n",
        "dataset_total = pd.concat((dataset_train['Close price'], dataset_test['Close price']), axis = 0)\n",
        "inputs = dataset_total[len(dataset_total) - len(dataset_test) - 60:].values\n",
        "inputs = inputs.reshape(-1,1)\n",
        "inputs = sc.transform(inputs)\n",
        "X_test = []\n",
        "for i in range(60, 102):\n",
        "    X_test.append(inputs[i-60:i, 0])\n",
        "X_test = np.array(X_test)\n",
        "X_test = np.reshape(X_test, (X_test.shape[0], X_test.shape[1], 1))\n",
        "predicted_stock_price = regressor.predict(X_test)\n",
        "predicted_stock_price = sc.inverse_transform(predicted_stock_price)"
      ],
      "metadata": {
        "id": "1ixdl0UNDDpO"
      },
      "execution_count": null,
      "outputs": []
    },
    {
      "cell_type": "code",
      "source": [
        "plt.plot(real_stock_price, color = 'red', label = 'Real OTP Stock Price')\n",
        "plt.plot(predicted_stock_price, color = 'blue', label = 'Predicted OTP Stock Price')\n",
        "plt.title('OTP Stock Price Prediction')\n",
        "plt.xlabel('Time')\n",
        "plt.ylabel('OTP Stock Price')\n",
        "plt.legend()\n",
        "plt.show()"
      ],
      "metadata": {
        "colab": {
          "base_uri": "https://localhost:8080/",
          "height": 295
        },
        "id": "nL6mt4fyDqug",
        "outputId": "2161ac3e-2d3b-471f-f0a5-ce7a67151c5c"
      },
      "execution_count": null,
      "outputs": [
        {
          "output_type": "display_data",
          "data": {
            "image/png": "[encoded data removed]",
            "text/plain": [
              "<Figure size 432x288 with 1 Axes>"
            ]
          },
          "metadata": {
            "needs_background": "light"
          }
        }
      ]
    }
  ]
}